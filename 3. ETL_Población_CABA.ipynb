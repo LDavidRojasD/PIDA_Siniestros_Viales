{
 "cells": [
  {
   "cell_type": "markdown",
   "metadata": {},
   "source": [
    "# Población Ciudad Autónoma de Buenos Aires\n",
    "\n",
    "Se realiza extracción de los datos de la página oficial del INDEC (Instituto Nacional de Estadística y Censos) de Argnetina, para obtener por periodo de Censo (Años 2010 - 2022) la población por comuna de CABA. La variación entre ambos censos se utilizó para proratear en los periodos (Años 2011 y 2021) dado que esta infomación podría favorecer los gráficos de los KPI's que se necesitan crear a partir de los datos de los siniestros viales que han terminado con la vidad de los habitantes de la ciudad."
   ]
  },
  {
   "cell_type": "markdown",
   "metadata": {},
   "source": [
    "Extracción, Transformación y Limpiza de los datos de la población de la Ciudad Autónoma de Buenos Aires:"
   ]
  },
  {
   "cell_type": "markdown",
   "metadata": {},
   "source": [
    "#### 1. Descarga de librería necesarias:"
   ]
  },
  {
   "cell_type": "code",
   "execution_count": 2,
   "metadata": {},
   "outputs": [],
   "source": [
    "import pandas as pd                                                           # Para abrir y transformar los archivos\n",
    "from urllib.request import urlretrieve                                        # Para leer y guardar los archivos originales\n",
    "import openpyxl                                                               # Para manipular los archivos en excel\n",
    "import seaborn as sns                                                         # Para los gráficos\n",
    "import matplotlib.pyplot as plt                                               # Para los estilos de gráfico"
   ]
  },
  {
   "cell_type": "markdown",
   "metadata": {},
   "source": [
    "#### 2. Descargar archivo orginal y guardarlo en la carpeta \"Datos_Originales\":"
   ]
  },
  {
   "cell_type": "code",
   "execution_count": 3,
   "metadata": {},
   "outputs": [
    {
     "name": "stdout",
     "output_type": "stream",
     "text": [
      "Hojas disponibles: ['Carátula', 'Índice', 'Cuadro 1.1']\n"
     ]
    }
   ],
   "source": [
    "# URL del archivo Excel\n",
    "url = 'https://www.indec.gob.ar/ftp/cuadros/poblacion/c2022_caba_est_c1_1.xlsx'\n",
    "\n",
    "# Ruta local donde se guardará el archivo\n",
    "local_file_path = \"Datos_Originales/Población_CABA.xlsx\"\n",
    "\n",
    "# Descargar el archivo desde la URL y guardarlo localmente\n",
    "urlretrieve(url, local_file_path)\n",
    "\n",
    "# Crear un objeto ExcelFile para manejar la estructura del archivo Excel\n",
    "wb = openpyxl.load_workbook(local_file_path, data_only=True)\n",
    "\n",
    "# Obtener la lista de nombres de hojas\n",
    "sheet_names = wb.sheetnames\n",
    "\n",
    "# Imprimir los nombres de las hojas disponibles\n",
    "print(\"Hojas disponibles:\", sheet_names)"
   ]
  },
  {
   "cell_type": "markdown",
   "metadata": {},
   "source": [
    "A través de openpyxl, se crea un objeto \"ExcelFile\" del que se pueden obtener los nombres con el método \"Sheetnames\" y manipular eficientemente el archivo de excel."
   ]
  },
  {
   "cell_type": "markdown",
   "metadata": {},
   "source": [
    "#### 3. Crear Datafrome de la hoja específica del archivo de excel:"
   ]
  },
  {
   "cell_type": "code",
   "execution_count": 4,
   "metadata": {},
   "outputs": [],
   "source": [
    "# Crear un objeto ExcelFile para manejar el archivo Excel\n",
    "xl = pd.ExcelFile(local_file_path)\n",
    "\n",
    "# crear dataframe\n",
    "df = xl.parse('Cuadro 1.1',skiprows=0)\n",
    "\n",
    "# Definir Columnas\n",
    "df.columns = [\"Código\", \"Comuna\", \"Población 2010\", \"Población 2022\", \"Variación\",\"% Variación\"]\n",
    "\n",
    "# Ubicar la fila que contiene la palabra \"Total\" y eliminar los registros (filas) anteriores a esta fila\n",
    "\n",
    "total_row_index = df[df.iloc[:, 1] == \"Total\"].index    # Número de fila\n",
    "start_row_index = total_row_index[0]                    # índice de la fila encontrada\n",
    "df = df.iloc[start_row_index+1:, :]                     # Eliminación desde el índice definido hasta la primer fila\n",
    "\n",
    "# Filtrar las filas que tienen números en la columna \"Población 2010\" (eliminar últimas filas)\n",
    "df = df.dropna(subset=['Población 2010'])\n",
    "\n",
    "\n",
    "# Reiniciar los índices después de la eliminación\n",
    "df.reset_index(drop=True, inplace=True)"
   ]
  },
  {
   "cell_type": "code",
   "execution_count": 5,
   "metadata": {},
   "outputs": [
    {
     "data": {
      "text/html": [
       "<div>\n",
       "<style scoped>\n",
       "    .dataframe tbody tr th:only-of-type {\n",
       "        vertical-align: middle;\n",
       "    }\n",
       "\n",
       "    .dataframe tbody tr th {\n",
       "        vertical-align: top;\n",
       "    }\n",
       "\n",
       "    .dataframe thead th {\n",
       "        text-align: right;\n",
       "    }\n",
       "</style>\n",
       "<table border=\"1\" class=\"dataframe\">\n",
       "  <thead>\n",
       "    <tr style=\"text-align: right;\">\n",
       "      <th></th>\n",
       "      <th>Código</th>\n",
       "      <th>Comuna</th>\n",
       "      <th>Población 2010</th>\n",
       "      <th>Población 2022</th>\n",
       "      <th>Variación</th>\n",
       "      <th>% Variación</th>\n",
       "    </tr>\n",
       "  </thead>\n",
       "  <tbody>\n",
       "    <tr>\n",
       "      <th>0</th>\n",
       "      <td>02007</td>\n",
       "      <td>Comuna 1</td>\n",
       "      <td>205886</td>\n",
       "      <td>223554.0</td>\n",
       "      <td>17668</td>\n",
       "      <td>8.6</td>\n",
       "    </tr>\n",
       "    <tr>\n",
       "      <th>1</th>\n",
       "      <td>02014</td>\n",
       "      <td>Comuna 2</td>\n",
       "      <td>157932</td>\n",
       "      <td>161645.0</td>\n",
       "      <td>3713</td>\n",
       "      <td>2.4</td>\n",
       "    </tr>\n",
       "    <tr>\n",
       "      <th>2</th>\n",
       "      <td>02021</td>\n",
       "      <td>Comuna 3</td>\n",
       "      <td>187537</td>\n",
       "      <td>196240.0</td>\n",
       "      <td>8703</td>\n",
       "      <td>4.6</td>\n",
       "    </tr>\n",
       "    <tr>\n",
       "      <th>3</th>\n",
       "      <td>02028</td>\n",
       "      <td>Comuna 4</td>\n",
       "      <td>218245</td>\n",
       "      <td>229240.0</td>\n",
       "      <td>10995</td>\n",
       "      <td>5</td>\n",
       "    </tr>\n",
       "    <tr>\n",
       "      <th>4</th>\n",
       "      <td>02035</td>\n",
       "      <td>Comuna 5</td>\n",
       "      <td>179005</td>\n",
       "      <td>194271.0</td>\n",
       "      <td>15266</td>\n",
       "      <td>8.5</td>\n",
       "    </tr>\n",
       "  </tbody>\n",
       "</table>\n",
       "</div>"
      ],
      "text/plain": [
       "  Código    Comuna Población 2010  Población 2022 Variación % Variación\n",
       "0  02007  Comuna 1         205886        223554.0     17668         8.6\n",
       "1  02014  Comuna 2         157932        161645.0      3713         2.4\n",
       "2  02021  Comuna 3         187537        196240.0      8703         4.6\n",
       "3  02028  Comuna 4         218245        229240.0     10995           5\n",
       "4  02035  Comuna 5         179005        194271.0     15266         8.5"
      ]
     },
     "execution_count": 5,
     "metadata": {},
     "output_type": "execute_result"
    }
   ],
   "source": [
    "df.head()"
   ]
  },
  {
   "cell_type": "markdown",
   "metadata": {},
   "source": [
    "#### 4. Crear las columnas de población para cada año entre 2011 y 2021 usando los datos del año 2010 y 2020 dividiendo la variación entre el rango de años suponiendo un crecimiento lineal de la población:"
   ]
  },
  {
   "cell_type": "code",
   "execution_count": 6,
   "metadata": {},
   "outputs": [
    {
     "data": {
      "text/html": [
       "<div>\n",
       "<style scoped>\n",
       "    .dataframe tbody tr th:only-of-type {\n",
       "        vertical-align: middle;\n",
       "    }\n",
       "\n",
       "    .dataframe tbody tr th {\n",
       "        vertical-align: top;\n",
       "    }\n",
       "\n",
       "    .dataframe thead th {\n",
       "        text-align: right;\n",
       "    }\n",
       "</style>\n",
       "<table border=\"1\" class=\"dataframe\">\n",
       "  <thead>\n",
       "    <tr style=\"text-align: right;\">\n",
       "      <th></th>\n",
       "      <th>Código</th>\n",
       "      <th>Comuna</th>\n",
       "      <th>Población 2010</th>\n",
       "      <th>Población 2022</th>\n",
       "      <th>Variación</th>\n",
       "      <th>% Variación</th>\n",
       "      <th>Población 2011</th>\n",
       "      <th>Población 2012</th>\n",
       "      <th>Población 2013</th>\n",
       "      <th>Población 2014</th>\n",
       "      <th>Población 2015</th>\n",
       "      <th>Población 2016</th>\n",
       "      <th>Población 2017</th>\n",
       "      <th>Población 2018</th>\n",
       "      <th>Población 2019</th>\n",
       "      <th>Población 2020</th>\n",
       "      <th>Población 2021</th>\n",
       "    </tr>\n",
       "  </thead>\n",
       "  <tbody>\n",
       "    <tr>\n",
       "      <th>0</th>\n",
       "      <td>02007</td>\n",
       "      <td>Comuna 1</td>\n",
       "      <td>205886</td>\n",
       "      <td>223554.0</td>\n",
       "      <td>17668</td>\n",
       "      <td>8.6</td>\n",
       "      <td>207358.333333</td>\n",
       "      <td>208830.666667</td>\n",
       "      <td>210303.0</td>\n",
       "      <td>211775.333333</td>\n",
       "      <td>213247.666667</td>\n",
       "      <td>214720.0</td>\n",
       "      <td>216192.333333</td>\n",
       "      <td>217664.666667</td>\n",
       "      <td>219137.0</td>\n",
       "      <td>220609.333333</td>\n",
       "      <td>222081.666667</td>\n",
       "    </tr>\n",
       "    <tr>\n",
       "      <th>1</th>\n",
       "      <td>02014</td>\n",
       "      <td>Comuna 2</td>\n",
       "      <td>157932</td>\n",
       "      <td>161645.0</td>\n",
       "      <td>3713</td>\n",
       "      <td>2.4</td>\n",
       "      <td>158241.416667</td>\n",
       "      <td>158550.833333</td>\n",
       "      <td>158860.25</td>\n",
       "      <td>159169.666667</td>\n",
       "      <td>159479.083333</td>\n",
       "      <td>159788.5</td>\n",
       "      <td>160097.916667</td>\n",
       "      <td>160407.333333</td>\n",
       "      <td>160716.75</td>\n",
       "      <td>161026.166667</td>\n",
       "      <td>161335.583333</td>\n",
       "    </tr>\n",
       "    <tr>\n",
       "      <th>2</th>\n",
       "      <td>02021</td>\n",
       "      <td>Comuna 3</td>\n",
       "      <td>187537</td>\n",
       "      <td>196240.0</td>\n",
       "      <td>8703</td>\n",
       "      <td>4.6</td>\n",
       "      <td>188262.25</td>\n",
       "      <td>188987.5</td>\n",
       "      <td>189712.75</td>\n",
       "      <td>190438.0</td>\n",
       "      <td>191163.25</td>\n",
       "      <td>191888.5</td>\n",
       "      <td>192613.75</td>\n",
       "      <td>193339.0</td>\n",
       "      <td>194064.25</td>\n",
       "      <td>194789.5</td>\n",
       "      <td>195514.75</td>\n",
       "    </tr>\n",
       "    <tr>\n",
       "      <th>3</th>\n",
       "      <td>02028</td>\n",
       "      <td>Comuna 4</td>\n",
       "      <td>218245</td>\n",
       "      <td>229240.0</td>\n",
       "      <td>10995</td>\n",
       "      <td>5</td>\n",
       "      <td>219161.25</td>\n",
       "      <td>220077.5</td>\n",
       "      <td>220993.75</td>\n",
       "      <td>221910.0</td>\n",
       "      <td>222826.25</td>\n",
       "      <td>223742.5</td>\n",
       "      <td>224658.75</td>\n",
       "      <td>225575.0</td>\n",
       "      <td>226491.25</td>\n",
       "      <td>227407.5</td>\n",
       "      <td>228323.75</td>\n",
       "    </tr>\n",
       "    <tr>\n",
       "      <th>4</th>\n",
       "      <td>02035</td>\n",
       "      <td>Comuna 5</td>\n",
       "      <td>179005</td>\n",
       "      <td>194271.0</td>\n",
       "      <td>15266</td>\n",
       "      <td>8.5</td>\n",
       "      <td>180277.166667</td>\n",
       "      <td>181549.333333</td>\n",
       "      <td>182821.5</td>\n",
       "      <td>184093.666667</td>\n",
       "      <td>185365.833333</td>\n",
       "      <td>186638.0</td>\n",
       "      <td>187910.166667</td>\n",
       "      <td>189182.333333</td>\n",
       "      <td>190454.5</td>\n",
       "      <td>191726.666667</td>\n",
       "      <td>192998.833333</td>\n",
       "    </tr>\n",
       "  </tbody>\n",
       "</table>\n",
       "</div>"
      ],
      "text/plain": [
       "  Código    Comuna Población 2010  Población 2022 Variación % Variación  \\\n",
       "0  02007  Comuna 1         205886        223554.0     17668         8.6   \n",
       "1  02014  Comuna 2         157932        161645.0      3713         2.4   \n",
       "2  02021  Comuna 3         187537        196240.0      8703         4.6   \n",
       "3  02028  Comuna 4         218245        229240.0     10995           5   \n",
       "4  02035  Comuna 5         179005        194271.0     15266         8.5   \n",
       "\n",
       "  Población 2011 Población 2012 Población 2013 Población 2014 Población 2015  \\\n",
       "0  207358.333333  208830.666667       210303.0  211775.333333  213247.666667   \n",
       "1  158241.416667  158550.833333      158860.25  159169.666667  159479.083333   \n",
       "2      188262.25       188987.5      189712.75       190438.0      191163.25   \n",
       "3      219161.25       220077.5      220993.75       221910.0      222826.25   \n",
       "4  180277.166667  181549.333333       182821.5  184093.666667  185365.833333   \n",
       "\n",
       "  Población 2016 Población 2017 Población 2018 Población 2019 Población 2020  \\\n",
       "0       214720.0  216192.333333  217664.666667       219137.0  220609.333333   \n",
       "1       159788.5  160097.916667  160407.333333      160716.75  161026.166667   \n",
       "2       191888.5      192613.75       193339.0      194064.25       194789.5   \n",
       "3       223742.5      224658.75       225575.0      226491.25       227407.5   \n",
       "4       186638.0  187910.166667  189182.333333       190454.5  191726.666667   \n",
       "\n",
       "  Población 2021  \n",
       "0  222081.666667  \n",
       "1  161335.583333  \n",
       "2      195514.75  \n",
       "3      228323.75  \n",
       "4  192998.833333  "
      ]
     },
     "execution_count": 6,
     "metadata": {},
     "output_type": "execute_result"
    }
   ],
   "source": [
    "# Crear las columnas \"Población 2011\" hasta \"Población 2021\"\n",
    "for i in range(2011, 2022):\n",
    "    prev_year = i - 1\n",
    "    df[f'Población {i}'] = df[f'Población {prev_year}'] + round((df['Variación'] / 12),0)\n",
    "\n",
    "# Mostrar el DataFrame resultante\n",
    "df.head()"
   ]
  },
  {
   "cell_type": "markdown",
   "metadata": {},
   "source": [
    "#### 5. Normalizar las columnas de población en una sola colunma creando la columna año:"
   ]
  },
  {
   "cell_type": "code",
   "execution_count": 7,
   "metadata": {},
   "outputs": [
    {
     "name": "stdout",
     "output_type": "stream",
     "text": [
      "    Código     Comuna             Año Población\n",
      "0    02007   Comuna 1  Población 2010    205886\n",
      "1    02014   Comuna 2  Población 2010    157932\n",
      "2    02021   Comuna 3  Población 2010    187537\n",
      "3    02028   Comuna 4  Población 2010    218245\n",
      "4    02035   Comuna 5  Población 2010    179005\n",
      "..     ...        ...             ...       ...\n",
      "190  02077  Comuna 11  Población 2022  204601.0\n",
      "191  02084  Comuna 12  Población 2022  236887.0\n",
      "192  02091  Comuna 13  Población 2022  264385.0\n",
      "193  02098  Comuna 14  Población 2022  248635.0\n",
      "194  02105  Comuna 15  Población 2022  196876.0\n",
      "\n",
      "[195 rows x 4 columns]\n"
     ]
    }
   ],
   "source": [
    "# Normalizar la tabla\n",
    "df_long = pd.melt(df, id_vars=['Código', 'Comuna'], \n",
    "                  value_vars=[f'Población {i}' for i in range(2010, 2023)],\n",
    "                  var_name='Año', value_name='Población')\n",
    "\n",
    "# Mostrar el DataFrame resultante\n",
    "print(df_long)"
   ]
  },
  {
   "cell_type": "markdown",
   "metadata": {},
   "source": [
    "#### 6. Eliminar columna innecesarias y editar tipos de datos correspondientes:"
   ]
  },
  {
   "cell_type": "code",
   "execution_count": 8,
   "metadata": {},
   "outputs": [],
   "source": [
    "# Eliminar la palabra \"Población\" de la columna \"Año\"\n",
    "df_long['Año'] = df_long['Año'].str.replace('Población ', '')\n",
    "\n",
    "# Eliminar la palabra \"Comuna\" de la columna \"Comuna\"\n",
    "df_long['Comuna'] = df_long['Comuna'].str.replace('Comuna ', '')\n",
    "\n",
    "# Convertir la columna \"Año\" a tipo fecha con solo el año\n",
    "df_long['Año'] = pd.to_datetime(df_long['Año'], format='%Y').dt.year\n",
    "\n",
    "# Convertir la columna \"Población\" a tipo entero\n",
    "df_long['Población'] = pd.to_numeric(df_long['Población'], downcast='integer', errors='coerce')\n",
    "\n",
    "# Convertir la columna \"Comuna\" a tipo entero\n",
    "df_long['Comuna'] = pd.to_numeric(df_long['Comuna'], downcast='integer', errors='coerce')\n",
    "\n",
    "# Eliminar la columna 'Código'\n",
    "df_long = df_long.drop(columns=['Código'])\n",
    "\n",
    "df_long['Población'] = round(df_long['Población'])"
   ]
  },
  {
   "cell_type": "code",
   "execution_count": 9,
   "metadata": {},
   "outputs": [
    {
     "data": {
      "text/html": [
       "<div>\n",
       "<style scoped>\n",
       "    .dataframe tbody tr th:only-of-type {\n",
       "        vertical-align: middle;\n",
       "    }\n",
       "\n",
       "    .dataframe tbody tr th {\n",
       "        vertical-align: top;\n",
       "    }\n",
       "\n",
       "    .dataframe thead th {\n",
       "        text-align: right;\n",
       "    }\n",
       "</style>\n",
       "<table border=\"1\" class=\"dataframe\">\n",
       "  <thead>\n",
       "    <tr style=\"text-align: right;\">\n",
       "      <th></th>\n",
       "      <th>Comuna</th>\n",
       "      <th>Año</th>\n",
       "      <th>Población</th>\n",
       "    </tr>\n",
       "  </thead>\n",
       "  <tbody>\n",
       "    <tr>\n",
       "      <th>0</th>\n",
       "      <td>1</td>\n",
       "      <td>2010</td>\n",
       "      <td>205886.0</td>\n",
       "    </tr>\n",
       "    <tr>\n",
       "      <th>1</th>\n",
       "      <td>2</td>\n",
       "      <td>2010</td>\n",
       "      <td>157932.0</td>\n",
       "    </tr>\n",
       "    <tr>\n",
       "      <th>2</th>\n",
       "      <td>3</td>\n",
       "      <td>2010</td>\n",
       "      <td>187537.0</td>\n",
       "    </tr>\n",
       "    <tr>\n",
       "      <th>3</th>\n",
       "      <td>4</td>\n",
       "      <td>2010</td>\n",
       "      <td>218245.0</td>\n",
       "    </tr>\n",
       "    <tr>\n",
       "      <th>4</th>\n",
       "      <td>5</td>\n",
       "      <td>2010</td>\n",
       "      <td>179005.0</td>\n",
       "    </tr>\n",
       "    <tr>\n",
       "      <th>...</th>\n",
       "      <td>...</td>\n",
       "      <td>...</td>\n",
       "      <td>...</td>\n",
       "    </tr>\n",
       "    <tr>\n",
       "      <th>189</th>\n",
       "      <td>10</td>\n",
       "      <td>2022</td>\n",
       "      <td>173004.0</td>\n",
       "    </tr>\n",
       "    <tr>\n",
       "      <th>190</th>\n",
       "      <td>11</td>\n",
       "      <td>2022</td>\n",
       "      <td>204601.0</td>\n",
       "    </tr>\n",
       "    <tr>\n",
       "      <th>191</th>\n",
       "      <td>12</td>\n",
       "      <td>2022</td>\n",
       "      <td>236887.0</td>\n",
       "    </tr>\n",
       "    <tr>\n",
       "      <th>192</th>\n",
       "      <td>13</td>\n",
       "      <td>2022</td>\n",
       "      <td>264385.0</td>\n",
       "    </tr>\n",
       "    <tr>\n",
       "      <th>193</th>\n",
       "      <td>14</td>\n",
       "      <td>2022</td>\n",
       "      <td>248635.0</td>\n",
       "    </tr>\n",
       "  </tbody>\n",
       "</table>\n",
       "<p>194 rows × 3 columns</p>\n",
       "</div>"
      ],
      "text/plain": [
       "     Comuna   Año  Población\n",
       "0         1  2010   205886.0\n",
       "1         2  2010   157932.0\n",
       "2         3  2010   187537.0\n",
       "3         4  2010   218245.0\n",
       "4         5  2010   179005.0\n",
       "..      ...   ...        ...\n",
       "189      10  2022   173004.0\n",
       "190      11  2022   204601.0\n",
       "191      12  2022   236887.0\n",
       "192      13  2022   264385.0\n",
       "193      14  2022   248635.0\n",
       "\n",
       "[194 rows x 3 columns]"
      ]
     },
     "execution_count": 9,
     "metadata": {},
     "output_type": "execute_result"
    }
   ],
   "source": [
    "df_long.head(-1)"
   ]
  },
  {
   "cell_type": "code",
   "execution_count": 10,
   "metadata": {},
   "outputs": [
    {
     "name": "stdout",
     "output_type": "stream",
     "text": [
      "<class 'pandas.core.frame.DataFrame'>\n",
      "RangeIndex: 195 entries, 0 to 194\n",
      "Data columns (total 3 columns):\n",
      " #   Column     Non-Null Count  Dtype  \n",
      "---  ------     --------------  -----  \n",
      " 0   Comuna     195 non-null    int8   \n",
      " 1   Año        195 non-null    int32  \n",
      " 2   Población  195 non-null    float64\n",
      "dtypes: float64(1), int32(1), int8(1)\n",
      "memory usage: 2.6 KB\n"
     ]
    }
   ],
   "source": [
    "df_long.info()"
   ]
  },
  {
   "cell_type": "markdown",
   "metadata": {},
   "source": [
    "El dataframe no continene datos nulos y el tipo de dato por columna es adecuado para usar en las herramientas de visualización."
   ]
  },
  {
   "cell_type": "markdown",
   "metadata": {},
   "source": [
    "#### 7. Exportar archivo a la carpeta de \"Datos_Limpios\" listo para usar en la herramiena de visualización (B.I.):"
   ]
  },
  {
   "cell_type": "code",
   "execution_count": 11,
   "metadata": {},
   "outputs": [],
   "source": [
    "df_long.to_csv('Datos_Limpios/Población_CABA.csv',index=False)"
   ]
  },
  {
   "cell_type": "markdown",
   "metadata": {},
   "source": [
    "#### 8. Análisis Exploratorio de Datos para el Dataframe de Población:"
   ]
  },
  {
   "cell_type": "markdown",
   "metadata": {},
   "source": [
    "#### 8.1. Gráfico de barras de población por comuna identificando la comuna con mayor población:"
   ]
  },
  {
   "cell_type": "code",
   "execution_count": 14,
   "metadata": {},
   "outputs": [
    {
     "data": {
      "image/png": "[encoded data removed]",
      "text/plain": [
       "<Figure size 1200x600 with 1 Axes>"
      ]
     },
     "metadata": {},
     "output_type": "display_data"
    }
   ],
   "source": [
    "# Agrupar por comuna y sumar la población\n",
    "poblacion_por_comuna = df_long.groupby('Comuna')['Población'].mean()\n",
    "\n",
    "# Ordenar la población por comuna de mayor a menor\n",
    "poblacion_por_comuna = poblacion_por_comuna.sort_values(ascending=False)\n",
    "\n",
    "# Crear el gráfico de barras con un espaciado mayor\n",
    "plt.figure(figsize=(12, 6), facecolor='#222222')\n",
    "ax = poblacion_por_comuna.plot(kind='bar', color='w', edgecolor='gray', alpha=0.6, width=0.8)\n",
    "\n",
    "# Agregar etiquetas en la base de las barras con formato\n",
    "for i, v in enumerate(poblacion_por_comuna):\n",
    "    formatted_value = \"{:,.0f}\".format(v)\n",
    "    ax.text(i, 0,'  '+ formatted_value, color='w', ha='center', va='bottom', rotation='vertical') # agregar espacio '  '\n",
    "\n",
    "# Configuraciones adicionales para personalizar el gráfico\n",
    "plt.ylabel('No. Habitantes (promedio anual)', color='white')\n",
    "plt.xlabel('No. Comuna', color='white')\n",
    "plt.title('Población por Comuna (CABA)', color='white')\n",
    "plt.xticks(rotation='vertical', color='gray')  # Rotar las etiquetas del eje x en forma vertical y configurar el color gris\n",
    "\n",
    "# Configurar el fondo negro\n",
    "plt.gca().set_facecolor('#222222')\n",
    "\n",
    "# Configurar el color de las líneas de los ejes\n",
    "plt.gca().spines['bottom'].set_color('gray')\n",
    "plt.gca().spines['top'].set_color('gray')\n",
    "plt.gca().spines['right'].set_color('gray')\n",
    "plt.gca().spines['left'].set_color('gray')\n",
    "\n",
    "# Configurar el color de las divisiones de ejes\n",
    "plt.grid(color='gray', linestyle='--', linewidth=0.5)\n",
    "\n",
    "# Configurar el color de las etiquetas y ticks del eje y\n",
    "plt.yticks(color='gray')\n",
    "\n",
    "# Mostrar el gráfico\n",
    "plt.show()"
   ]
  },
  {
   "cell_type": "markdown",
   "metadata": {},
   "source": [
    "Se identifican 3 grupos de población que difienren entre sí solo en 500 personas aproximadamente (una distribución muy pareja entre comunas)."
   ]
  },
  {
   "cell_type": "markdown",
   "metadata": {},
   "source": [
    "#### 8.2. Gráfico de serie de tiempo de población por año:"
   ]
  },
  {
   "cell_type": "code",
   "execution_count": 15,
   "metadata": {},
   "outputs": [
    {
     "data": {
      "image/png": "[encoded data removed]",
      "text/plain": [
       "<Figure size 1200x600 with 1 Axes>"
      ]
     },
     "metadata": {},
     "output_type": "display_data"
    }
   ],
   "source": [
    "# Agrupar por año y sumar la población\n",
    "poblacion_por_año = df_long.groupby('Año')['Población'].sum()\n",
    "\n",
    "# Crear el gráfico de serie\n",
    "plt.figure(figsize=(12, 6),facecolor='#222222')\n",
    "poblacion_por_año.plot(kind='line', color='w', marker='o', linestyle='-')\n",
    "\n",
    "# Configuraciones adicionales para personalizar el gráfico\n",
    "plt.ylabel('No. Habitantes', color='white')\n",
    "plt.title('Población por Año (CABA)', color='white')\n",
    "plt.xlabel('Año', color='white')\n",
    "plt.xticks(rotation='vertical', color='gray')  # Rotar las etiquetas del eje x en forma vertical y configurar el color blanco\n",
    "\n",
    "# Configurar el fondo negro\n",
    "plt.gca().set_facecolor('#222222')\n",
    "\n",
    "# Configurar el color de las líneas de los ejes\n",
    "plt.gca().spines['bottom'].set_color('gray')\n",
    "plt.gca().spines['top'].set_color('gray')\n",
    "plt.gca().spines['right'].set_color('gray')\n",
    "plt.gca().spines['left'].set_color('gray')\n",
    "\n",
    "# Configurar el color de las divisiones de ejes\n",
    "plt.grid(color='gray', linestyle='--', linewidth=0.5)\n",
    "\n",
    "\n",
    "# Configurar el color de las etiquetas y ticks del eje y\n",
    "plt.yticks(color='gray')\n",
    "\n",
    "# Mostrar el gráfico\n",
    "plt.show()"
   ]
  },
  {
   "cell_type": "markdown",
   "metadata": {},
   "source": [
    "La linealidad es parte del supuesto en la elaboración del dataframe por año, si bien en los Censos anterioes de CABA antes del 2010 se muestra un descenso en la población, en el último censo se observa un incremento que presumimos lineal para la construcción del df."
   ]
  }
 ],
 "metadata": {
  "kernelspec": {
   "display_name": "Python 3",
   "language": "python",
   "name": "python3"
  },
  "language_info": {
   "codemirror_mode": {
    "name": "ipython",
    "version": 3
   },
   "file_extension": ".py",
   "mimetype": "text/x-python",
   "name": "python",
   "nbconvert_exporter": "python",
   "pygments_lexer": "ipython3",
   "version": "3.10.11"
  }
 },
 "nbformat": 4,
 "nbformat_minor": 2
}
